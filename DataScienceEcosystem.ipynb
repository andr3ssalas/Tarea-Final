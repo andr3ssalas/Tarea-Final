{
 "cells": [
  {
   "cell_type": "markdown",
   "id": "a70d5adc",
   "metadata": {},
   "source": [
    "<H1> Data Science Tools and Ecosystem."
   ]
  },
  {
   "cell_type": "markdown",
   "id": "59909a3d",
   "metadata": {},
   "source": [
    "In this Notebook, Data Science Tools and Ecosystem, are summarized all the topics learned in the course Tools for Data Science."
   ]
  },
  {
   "cell_type": "markdown",
   "id": "0ff78540",
   "metadata": {},
   "source": [
    "**Objectives:**\n",
    "- List popular languages used by Data Scientists\n",
    "- List commonly used libraries usedd by Data Scientists\n",
    "- List some of the most used Development Environment Open Source Tools used by Data Scientists"
   ]
  },
  {
   "cell_type": "markdown",
   "id": "d0d33369",
   "metadata": {},
   "source": [
    "Some of the most popular languages that Data Scientist use are:"
   ]
  },
  {
   "cell_type": "markdown",
   "id": "7cf17627",
   "metadata": {},
   "source": [
    "1. Python\n",
    "2. R\n",
    "3. SQL\n",
    "4. Java\n",
    "5. Julia"
   ]
  },
  {
   "cell_type": "markdown",
   "id": "bd4f1d1b",
   "metadata": {},
   "source": [
    "Some of the commonly used libraries used by Data Scientists include:"
   ]
  },
  {
   "cell_type": "markdown",
   "id": "e4ef254a",
   "metadata": {},
   "source": [
    "1. Numpy\n",
    "2. Pandas\n",
    "3. Matplotlib\n",
    "4. Seaborn\n",
    "5. Plotly"
   ]
  },
  {
   "cell_type": "markdown",
   "id": "1b31f352",
   "metadata": {},
   "source": [
    "|Data Science Tools|\n",
    "|------------------|\n",
    "|     RStudio      |\n",
    "|  Apache spark |\n",
    "| Anaconda |\n"
   ]
  },
  {
   "cell_type": "markdown",
   "id": "bc8b863d",
   "metadata": {},
   "source": [
    "<H3> Below are a few examples of evaluating arithmetic expressions in Python:\n",
    "   "
   ]
  },
  {
   "cell_type": "markdown",
   "id": "26ececc9",
   "metadata": {},
   "source": [
    "The next line is a simple arithmetic expression where we multiply then add integers:"
   ]
  },
  {
   "cell_type": "code",
   "execution_count": 3,
   "id": "5ba67a13",
   "metadata": {},
   "outputs": [
    {
     "data": {
      "text/plain": [
       "17"
      ]
     },
     "execution_count": 3,
     "metadata": {},
     "output_type": "execute_result"
    }
   ],
   "source": [
    "(3*4)+5"
   ]
  },
  {
   "cell_type": "markdown",
   "id": "ac753eef",
   "metadata": {},
   "source": [
    "The following line will convert 200 minutes to hours dividing by 60:"
   ]
  },
  {
   "cell_type": "code",
   "execution_count": 2,
   "id": "bb816c42",
   "metadata": {},
   "outputs": [
    {
     "data": {
      "text/plain": [
       "3.3333333333333335"
      ]
     },
     "execution_count": 2,
     "metadata": {},
     "output_type": "execute_result"
    }
   ],
   "source": [
    "200/60"
   ]
  },
  {
   "cell_type": "markdown",
   "id": "a1306452",
   "metadata": {},
   "source": [
    "##  Autor:\n",
    " Andres Salas"
   ]
  }
 ],
 "metadata": {
  "kernelspec": {
   "display_name": "Python 3 (ipykernel)",
   "language": "python",
   "name": "python3"
  },
  "language_info": {
   "codemirror_mode": {
    "name": "ipython",
    "version": 3
   },
   "file_extension": ".py",
   "mimetype": "text/x-python",
   "name": "python",
   "nbconvert_exporter": "python",
   "pygments_lexer": "ipython3",
   "version": "3.11.5"
  }
 },
 "nbformat": 4,
 "nbformat_minor": 5
}
